{
 "cells": [
  {
   "cell_type": "code",
   "execution_count": 58,
   "metadata": {},
   "outputs": [],
   "source": [
    "import pyautogui\n",
    "import time"
   ]
  },
  {
   "cell_type": "code",
   "execution_count": null,
   "metadata": {},
   "outputs": [],
   "source": [
    "pyautogui.hotkey('ctrl','v')\n",
    "\n",
    "for i in range(42):    \n",
    "    time.sleep(2)\n",
    "    pyautogui.press('f2')\n",
    "    time.sleep(2)\n",
    "    pyautogui.hotkey('ctrl','c')\n",
    "    pyautogui.press('esc')\n",
    "    time.sleep(2)\n",
    "    pyautogui.click(x=-632, y=23)\n",
    "    time.sleep(2)\n",
    "    pyautogui.hotkey('ctrl','v')\n",
    "    pyautogui.press('enter')\n",
    "    time.sleep(2)\n",
    "    pyautogui.click(x=1364, y=348)\n",
    "\n",
    "    pyautogui.press('down')\n",
    "\n",
    "\n",
    "    "
   ]
  },
  {
   "cell_type": "code",
   "execution_count": null,
   "metadata": {},
   "outputs": [
    {
     "data": {
      "text/plain": [
       "Point(x=1364, y=348)"
      ]
     },
     "execution_count": 57,
     "metadata": {},
     "output_type": "execute_result"
    }
   ],
   "source": [
    "pyautogui.position()"
   ]
  }
 ],
 "metadata": {
  "kernelspec": {
   "display_name": "Python 3",
   "language": "python",
   "name": "python3"
  },
  "language_info": {
   "codemirror_mode": {
    "name": "ipython",
    "version": 3
   },
   "file_extension": ".py",
   "mimetype": "text/x-python",
   "name": "python",
   "nbconvert_exporter": "python",
   "pygments_lexer": "ipython3",
   "version": "3.11.3"
  },
  "orig_nbformat": 4
 },
 "nbformat": 4,
 "nbformat_minor": 2
}
