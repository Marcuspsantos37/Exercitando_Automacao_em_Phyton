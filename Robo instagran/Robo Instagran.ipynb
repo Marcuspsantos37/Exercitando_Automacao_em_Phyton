{
 "cells": [
  {
   "cell_type": "code",
   "execution_count": 2,
   "metadata": {},
   "outputs": [],
   "source": [
    "import pyautogui\n",
    "from pyautogui import locateOnScreen, locateCenterOnScreen\n",
    "import time\n",
    "import random\n",
    "from random import randint"
   ]
  },
  {
   "cell_type": "code",
   "execution_count": 95,
   "metadata": {},
   "outputs": [
    {
     "ename": "KeyboardInterrupt",
     "evalue": "",
     "output_type": "error",
     "traceback": [
      "\u001b[1;31m---------------------------------------------------------------------------\u001b[0m",
      "\u001b[1;31mKeyboardInterrupt\u001b[0m                         Traceback (most recent call last)",
      "Cell \u001b[1;32mIn[95], line 4\u001b[0m\n\u001b[0;32m      2\u001b[0m time\u001b[39m.\u001b[39msleep(\u001b[39m2\u001b[39m)\n\u001b[0;32m      3\u001b[0m pyautogui\u001b[39m.\u001b[39mwrite(\u001b[39m'\u001b[39m\u001b[39mchrome\u001b[39m\u001b[39m'\u001b[39m)\n\u001b[1;32m----> 4\u001b[0m time\u001b[39m.\u001b[39;49msleep(\u001b[39m2\u001b[39;49m)\n\u001b[0;32m      5\u001b[0m pyautogui\u001b[39m.\u001b[39mpress(\u001b[39m'\u001b[39m\u001b[39menter\u001b[39m\u001b[39m'\u001b[39m)\n\u001b[0;32m      6\u001b[0m time\u001b[39m.\u001b[39msleep(\u001b[39m2\u001b[39m)\n",
      "\u001b[1;31mKeyboardInterrupt\u001b[0m: "
     ]
    }
   ],
   "source": [
    "pyautogui.press('win')\n",
    "time.sleep(2)\n",
    "pyautogui.write('chrome')\n",
    "time.sleep(2)\n",
    "pyautogui.press('enter')\n",
    "time.sleep(2)"
   ]
  },
  {
   "cell_type": "code",
   "execution_count": null,
   "metadata": {},
   "outputs": [],
   "source": [
    "pyautogui.click(x=857, y=614)"
   ]
  },
  {
   "cell_type": "code",
   "execution_count": 3,
   "metadata": {},
   "outputs": [
    {
     "ename": "KeyboardInterrupt",
     "evalue": "",
     "output_type": "error",
     "traceback": [
      "\u001b[1;31m---------------------------------------------------------------------------\u001b[0m",
      "\u001b[1;31mKeyboardInterrupt\u001b[0m                         Traceback (most recent call last)",
      "Cell \u001b[1;32mIn[3], line 32\u001b[0m\n\u001b[0;32m     30\u001b[0m time\u001b[39m.\u001b[39msleep(\u001b[39m2\u001b[39m)\n\u001b[0;32m     31\u001b[0m pyautogui\u001b[39m.\u001b[39mhotkey(\u001b[39m'\u001b[39m\u001b[39malt\u001b[39m\u001b[39m'\u001b[39m,\u001b[39m'\u001b[39m\u001b[39mtab\u001b[39m\u001b[39m'\u001b[39m)\n\u001b[1;32m---> 32\u001b[0m time\u001b[39m.\u001b[39;49msleep(\u001b[39m2\u001b[39;49m)\n\u001b[0;32m     33\u001b[0m pyautogui\u001b[39m.\u001b[39mpress(\u001b[39m'\u001b[39m\u001b[39mtab\u001b[39m\u001b[39m'\u001b[39m,presses\u001b[39m=\u001b[39m\u001b[39m4\u001b[39m)\n",
      "\u001b[1;31mKeyboardInterrupt\u001b[0m: "
     ]
    }
   ],
   "source": [
    "for i in range (20):\n",
    "    time.sleep(random.randint(4,15))\n",
    "    pyautogui.press('apps')\n",
    "    time.sleep(2)\n",
    "    pyautogui.press('down')\n",
    "    time.sleep(2)\n",
    "    pyautogui.press('down')\n",
    "    time.sleep(2)\n",
    "    pyautogui.press('enter')\n",
    "    time.sleep(random.randint(3,7))\n",
    "    #pyautogui.click(x=551, y=177)\n",
    "    pyautogui.press('tab', presses=12)\n",
    "    time.sleep(3)\n",
    "    #pyautogui.press('tab',presses=1)\n",
    "    #time.sleep(2)\n",
    "    pyautogui.press('enter')\n",
    "    time.sleep(2)\n",
    "    pyautogui.click(x=954, y=493)\n",
    "    pyautogui.click(x=954, y=493)\n",
    "    pyautogui.click(x=954, y=493)\n",
    "    time.sleep(2)\n",
    "    pyautogui.hotkey('ctrl','c')\n",
    "    time.sleep(2)\n",
    "    pyautogui.hotkey('ctrl','w')\n",
    "    time.sleep(2)\n",
    "    pyautogui.click(x=-1121, y=432)\n",
    "    time.sleep(2)\n",
    "    pyautogui.hotkey('ctrl','v')\n",
    "    pyautogui.press('enter')\n",
    "    time.sleep(2)\n",
    "    pyautogui.hotkey('alt','tab')\n",
    "    time.sleep(2)\n",
    "    pyautogui.press('tab',presses=4)\n"
   ]
  },
  {
   "cell_type": "code",
   "execution_count": 99,
   "metadata": {},
   "outputs": [
    {
     "data": {
      "text/plain": [
       "Point(x=551, y=177)"
      ]
     },
     "execution_count": 99,
     "metadata": {},
     "output_type": "execute_result"
    }
   ],
   "source": [
    "pyautogui.position()"
   ]
  },
  {
   "attachments": {},
   "cell_type": "markdown",
   "metadata": {},
   "source": []
  }
 ],
 "metadata": {
  "kernelspec": {
   "display_name": "Python 3",
   "language": "python",
   "name": "python3"
  },
  "language_info": {
   "codemirror_mode": {
    "name": "ipython",
    "version": 3
   },
   "file_extension": ".py",
   "mimetype": "text/x-python",
   "name": "python",
   "nbconvert_exporter": "python",
   "pygments_lexer": "ipython3",
   "version": "3.11.3"
  },
  "orig_nbformat": 4
 },
 "nbformat": 4,
 "nbformat_minor": 2
}
